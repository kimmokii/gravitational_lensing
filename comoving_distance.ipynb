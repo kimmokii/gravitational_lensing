{
 "cells": [
  {
   "cell_type": "code",
   "execution_count": 2,
   "id": "ce154f25",
   "metadata": {},
   "outputs": [],
   "source": [
    "import numpy as np\n",
    "from scipy import integrate"
   ]
  },
  {
   "cell_type": "code",
   "execution_count": 4,
   "id": "69f8538d",
   "metadata": {},
   "outputs": [
    {
     "name": "stdout",
     "output_type": "stream",
     "text": [
      "Give redshift z 1\n",
      "The comoving distance to redshift  1.0 is 3422.0  Mpc.\n"
     ]
    }
   ],
   "source": [
    "# Cosmological parameters\n",
    "omega_m = 0.315\n",
    "omega_lambda = 1-omega_m\n",
    "H_0 = 67 # km/s/Mpc\n",
    "\n",
    "def comoving_distance(z):\n",
    "\n",
    "    # Integrate the comoving distance using quad\n",
    "    integrand = lambda x: 1 / np.sqrt(omega_m * (1 + x)**3 + omega_lambda)\n",
    "    integral, _ = integrate.quad(integrand, 0, z)\n",
    "    D_c = integral * (299792.458/H_0)\n",
    "    return D_c\n",
    "\n",
    "z = float(input('Give redshift z '))\n",
    "print('The comoving distance to redshift ',z, 'is', np.round(comoving_distance(z),0), ' Mpc.' )"
   ]
  },
  {
   "cell_type": "code",
   "execution_count": null,
   "id": "2f19e2b1",
   "metadata": {},
   "outputs": [],
   "source": []
  }
 ],
 "metadata": {
  "kernelspec": {
   "display_name": "Python 3 (ipykernel)",
   "language": "python",
   "name": "python3"
  },
  "language_info": {
   "codemirror_mode": {
    "name": "ipython",
    "version": 3
   },
   "file_extension": ".py",
   "mimetype": "text/x-python",
   "name": "python",
   "nbconvert_exporter": "python",
   "pygments_lexer": "ipython3",
   "version": "3.9.12"
  }
 },
 "nbformat": 4,
 "nbformat_minor": 5
}
